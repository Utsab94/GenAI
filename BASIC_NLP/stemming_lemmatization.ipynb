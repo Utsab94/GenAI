{
 "cells": [
  {
   "cell_type": "code",
   "execution_count": 8,
   "metadata": {},
   "outputs": [
    {
     "data": {
      "text/plain": [
       "' \\n@author: Utsab Chatterjee\\n\\nStemming or Lemmatization is a process of reducing infected words to their root/stem word. The primary goal of these techniques is to reduce the number of unique words in a text document, making it easier to analyze and understand. Stemming involves removing suffixes from words to obtain their base form while lemmatization involves converting words to their morphological base form.\\n\\nExample of stemming :\\nhistory -- historin -- historical -> histori (stem) ; may have or may not have meaning. process is first. used in sentiment analysis, spam detection etc.\\nhistory -- historin -- historical -> history (lemma) ; have meaning. Process is slower than stemming. used in chatbot, QNA etc.\\n\\n'"
      ]
     },
     "execution_count": 8,
     "metadata": {},
     "output_type": "execute_result"
    }
   ],
   "source": [
    "\"\"\" \n",
    "@author: Utsab Chatterjee\n",
    "\n",
    "Stemming or Lemmatization is a process of reducing infected words to their root/stem word. The primary goal of these techniques is to reduce the number of unique words in a text document, making it easier to analyze and understand. Stemming involves removing suffixes from words to obtain their base form while lemmatization involves converting words to their morphological base form.\n",
    "\n",
    "Example of stemming :\n",
    "history -- historin -- historical -> histori (stem) ; may have or may not have meaning. process is first. used in sentiment analysis, spam detection etc.\n",
    "history -- historin -- historical -> history (lemma) ; have meaning. Process is slower than stemming. used in chatbot, QNA etc.\n",
    "\n",
    "\"\"\""
   ]
  },
  {
   "cell_type": "code",
   "execution_count": 9,
   "metadata": {},
   "outputs": [],
   "source": [
    "# Speech of Dr. A.P.J Abdul Kalam sir on his 3 visions for India\n",
    "\n",
    "text = \"\"\"I have three visions for India. In 3000 years of our history, people from all over the world have come and invaded us, captured our lands, conquered our minds. From Alexander onwards, The Greeks, the Turks, the Moguls, the Portuguese, the British, the French, the Dutch, all of them came and looted us, took over what was ours. Yet we have not done this to any other nation. We have not conquered anyone. We have not grabbed their land, their culture, their history and Tried to enforce our way of life on them. Why? Because we respect the freedom of others.\n",
    "\n",
    "That is why my first vision is that of FREEDOM. I believe that India got its first vision of this in 1857, when we started the war of Independence. It is this freedom that we must protect and nurture and build on. If we are not free, no one will respect us. My second vision for India’s DEVELOPMENT, For fifty years we have been A developing nation. It is time we see ourselves as a developed nation. We are among top 5 nations of the world in terms of GDP. We have 10 percent growth rate in most areas. Our poverty levels are falling. Our achievements are being globally recognized today. Yet we lack the self-confidence to see ourselves as a developed nation, self-reliant and self-assured. Isn’t this incorrect?\n",
    "\n",
    "I have a THIRD vision. India must stand up to the world. Because I believe that, unless India stands up to the world, no one will respect us. Only strength respects strength. We must be strong not only as a military power but also as an economic power. Both must go hand-in-hand. My good fortune was to have worked with three great minds. Dr. Vikram Sarabhai of the Dept. of space, Professor Satish Dhawan, who succeeded him and Dr.Brahm Prakash, father of nuclear material. I was lucky to have worked with all three of them closely and consider this the great opportunity of my life. \"\"\""
   ]
  },
  {
   "cell_type": "code",
   "execution_count": 10,
   "metadata": {},
   "outputs": [
    {
     "name": "stdout",
     "output_type": "stream",
     "text": [
      "After Stemming :  ['three vision india', 'year histori peopl world come invad us captur land conquer mind', 'alexand onward greek turk mogul portugues british french dutch came loot us took', 'yet done nation', 'conquer anyon', 'grab land cultur histori tri enforc way life', '', 'respect freedom other', 'first vision freedom', 'believ india got first vision start war independ', 'freedom must protect nurtur build', 'free one respect us', 'second vision india develop fifti year develop nation', 'time see develop nation', 'among top nation world term gdp', 'percent growth rate area', 'poverti level fall', 'achiev global recogn today', 'yet lack self confid see develop nation self reliant self assur', 'incorrect', 'third vision', 'india must stand world', 'believ unless india stand world one respect us', 'strength respect strength', 'must strong militari power also econom power', 'must go hand hand', 'good fortun work three great mind', 'dr vikram sarabhai dept', 'space professor satish dhawan succeed dr brahm prakash father nuclear materi', 'lucki work three close consid great opportun life']\n",
      "After Lemmatization:  ['three vision india', 'year history people world come invaded u captured land conquered mind', 'alexander onwards greek turk mogul portuguese british french dutch came looted u took', 'yet done nation', 'conquered anyone', 'grabbed land culture history tried enforce way life', '', 'respect freedom others', 'first vision freedom', 'believe india got first vision started war independence', 'freedom must protect nurture build', 'free one respect u', 'second vision india development fifty year developing nation', 'time see developed nation', 'among top nation world term gdp', 'percent growth rate area', 'poverty level falling', 'achievement globally recognized today', 'yet lack self confidence see developed nation self reliant self assured', 'incorrect', 'third vision', 'india must stand world', 'believe unless india stand world one respect u', 'strength respect strength', 'must strong military power also economic power', 'must go hand hand', 'good fortune worked three great mind', 'dr vikram sarabhai dept', 'space professor satish dhawan succeeded dr brahm prakash father nuclear material', 'lucky worked three closely consider great opportunity life']\n"
     ]
    }
   ],
   "source": [
    "# importing packages for stemming and lemmatization\n",
    "from nltk.stem import PorterStemmer\n",
    "from nltk.stem import WordNetLemmatizer\n",
    "from nltk.tokenize import sent_tokenize, word_tokenize\n",
    "from nltk.corpus import stopwords\n",
    "import re\n",
    "\n",
    "# creating stem and lemma object\n",
    "stem_obj = PorterStemmer()\n",
    "lemma_obj = WordNetLemmatizer()\n",
    "\n",
    "# tokenizing by sentence\n",
    "sentences = sent_tokenize(text=text, language=\"english\")\n",
    "stemming_corpus = []\n",
    "lemmatization_corus = []\n",
    "\n",
    "for i in range(len(sentences)):\n",
    "    review = re.sub(\"[^a-zA-Z]\", \" \", sentences[i])\n",
    "    review = review.lower()\n",
    "    review = word_tokenize(review)\n",
    "    stem_review = [stem_obj.stem(word) for word in review if word not in set(stopwords.words(\"english\"))]\n",
    "    lemma_review = [lemma_obj.lemmatize(word) for word in review if word not in set(stopwords.words(\"english\"))]\n",
    "    stem_review = \" \".join(stem_review)\n",
    "    lemma_review = \" \".join(lemma_review)\n",
    "    stemming_corpus.append(stem_review)\n",
    "    lemmatization_corus.append(lemma_review)\n",
    "\n",
    "print(\"After Stemming : \", stemming_corpus)\n",
    "print(\"After Lemmatization: \", lemmatization_corus)"
   ]
  },
  {
   "cell_type": "code",
   "execution_count": null,
   "metadata": {},
   "outputs": [],
   "source": []
  }
 ],
 "metadata": {
  "kernelspec": {
   "display_name": "Python 3",
   "language": "python",
   "name": "python3"
  },
  "language_info": {
   "codemirror_mode": {
    "name": "ipython",
    "version": 3
   },
   "file_extension": ".py",
   "mimetype": "text/x-python",
   "name": "python",
   "nbconvert_exporter": "python",
   "pygments_lexer": "ipython3",
   "version": "0.0.0"
  }
 },
 "nbformat": 4,
 "nbformat_minor": 2
}
